{
 "cells": [
  {
   "cell_type": "code",
   "execution_count": 2,
   "metadata": {},
   "outputs": [
    {
     "name": "stderr",
     "output_type": "stream",
     "text": [
      "C:\\Users\\USMM TEJA\\AppData\\Roaming\\Python\\Python312\\site-packages\\ultralytics\\nn\\tasks.py:781: FutureWarning: You are using `torch.load` with `weights_only=False` (the current default value), which uses the default pickle module implicitly. It is possible to construct malicious pickle data which will execute arbitrary code during unpickling (See https://github.com/pytorch/pytorch/blob/main/SECURITY.md#untrusted-models for more details). In a future release, the default value for `weights_only` will be flipped to `True`. This limits the functions that could be executed during unpickling. Arbitrary objects will no longer be allowed to be loaded via this mode unless they are explicitly allowlisted by the user via `torch.serialization.add_safe_globals`. We recommend you start setting `weights_only=True` for any use case where you don't have full control of the loaded file. Please open an issue on GitHub for any issues related to this experimental feature.\n",
      "  ckpt = torch.load(file, map_location=\"cpu\")\n"
     ]
    },
    {
     "name": "stdout",
     "output_type": "stream",
     "text": [
      "\n",
      "image 1/1 c:\\Users\\USMM TEJA\\Desktop\\IITH\\7th Sem\\YOLOV8\\img.jpg: 320x256 (no detections), 75.2ms\n",
      "Speed: 3.6ms preprocess, 75.2ms inference, 0.0ms postprocess per image at shape (1, 3, 320, 256)\n",
      "Results saved to \u001b[1mc:\\Users\\USMM TEJA\\Desktop\\IITH\\7th Sem\\YOLOV8\\ultralytics\\runs\\detect\\predict2\u001b[0m\n"
     ]
    }
   ],
   "source": [
    "from ultralytics import YOLO\n",
    "\n",
    "# Load a pre-trained YOLOv8 model\n",
    "model = YOLO(\"best.pt\")\n",
    "\n",
    "# Specify the source image\n",
    "source = \"img.jpg\"\n",
    "\n",
    "# Make predictions\n",
    "results = model.predict(source, save=True, imgsz=320, conf=0.5)\n",
    "\n",
    "# Extract bounding box dimensions\n",
    "boxes = results[0].boxes.xywh.cpu()\n",
    "for box in boxes:\n",
    "    x, y, w, h = box\n",
    "    print(f\"Width of Box: {w}, Height of Box: {h}\")"
   ]
  }
 ],
 "metadata": {
  "kernelspec": {
   "display_name": "Python 3",
   "language": "python",
   "name": "python3"
  },
  "language_info": {
   "codemirror_mode": {
    "name": "ipython",
    "version": 3
   },
   "file_extension": ".py",
   "mimetype": "text/x-python",
   "name": "python",
   "nbconvert_exporter": "python",
   "pygments_lexer": "ipython3",
   "version": "3.12.5"
  }
 },
 "nbformat": 4,
 "nbformat_minor": 2
}
